{
 "cells": [
  {
   "cell_type": "code",
   "execution_count": 1,
   "id": "8dab5cbc",
   "metadata": {},
   "outputs": [
    {
     "name": "stdout",
     "output_type": "stream",
     "text": [
      "Excel written: STM32H562VGT6_config.xlsx (with Pins + Peripherals)\n"
     ]
    }
   ],
   "source": [
    "from helper_functions.write_excel_file import write_excel_file\n",
    "from helper_functions.ioc_read_pins import parse_pin_file, parse_peripherals\n",
    "from helper_functions.kicad_read_pins import kicad_pins_to_labels_map\n",
    "import pandas as pd\n",
    "\n",
    "# Configuration - specify your files here\n",
    "file_path = \"STM32H562VGT6_config.ioc\"  # Replace with your file path\n",
    "schematic_file = \"STM_MCU.kicad_sch\"    # Replace with your schematic file\n",
    "lib_file = \"STM32H562VGT6.kicad_sym\"    # Replace with your library file\n",
    "unit = 1  # Specify the unit number if needed (starts at 1) can be used for multi-unit symbols\n",
    "\n",
    "\n",
    "# Parse pins and peripherals from the .ioc file\n",
    "pin_data, additional_info, duplicate_EXTI_error = parse_pin_file(file_path)\n",
    "periph_data = parse_peripherals(file_path)\n",
    "\n",
    "# parse pins from the kicad file\n",
    "pins_to_labels = kicad_pins_to_labels_map(lib_file, schematic_file, unit=unit)\n",
    "pin_data = pin_data.rename(columns={\"Signal\": \"Label\"})\n",
    "# Merge dataframes to compare\n",
    "df_compare = pd.merge(\n",
    "    pin_data, pins_to_labels,\n",
    "    on=\"PinName\",\n",
    "    how=\"outer\",\n",
    "    suffixes=(\"_ioc\", \"_kicad\"),\n",
    "    indicator=True\n",
    ")\n",
    "\n",
    "# Build output file path\n",
    "excel_file_path = file_path[:-3] + \"xlsx\"\n",
    "\n",
    "# Write everything to Excel\n",
    "write_excel_file(\n",
    "    excel_file_path,\n",
    "    df_compare,\n",
    "    additional_info,\n",
    "    duplicate_EXTI_error,\n",
    "    peripherals=periph_data\n",
    ")\n"
   ]
  }
 ],
 "metadata": {
  "kernelspec": {
   "display_name": "stm32_ioc_pinout",
   "language": "python",
   "name": "python3"
  },
  "language_info": {
   "codemirror_mode": {
    "name": "ipython",
    "version": 3
   },
   "file_extension": ".py",
   "mimetype": "text/x-python",
   "name": "python",
   "nbconvert_exporter": "python",
   "pygments_lexer": "ipython3",
   "version": "3.11.5"
  }
 },
 "nbformat": 4,
 "nbformat_minor": 5
}
